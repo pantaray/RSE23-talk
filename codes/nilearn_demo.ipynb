{
 "cells": [
  {
   "cell_type": "code",
   "execution_count": null,
   "id": "9ab63293-94d1-4eec-86dd-dd2d9d79d77d",
   "metadata": {},
   "outputs": [],
   "source": [
    "from nilearn_connectome import compute_connectome, subjectList\n",
    "from acme import ParallelMap, esi_cluster_setup"
   ]
  },
  {
   "cell_type": "code",
   "execution_count": null,
   "id": "412f23e2-cf03-46e5-acd1-96b4958a3f76",
   "metadata": {},
   "outputs": [],
   "source": [
    "myClient = esi_cluster_setup(n_workers=10, partition=\"8GBXS\")"
   ]
  },
  {
   "cell_type": "code",
   "execution_count": null,
   "id": "e9ed3ef0-b6e5-4a02-8dfb-6ecb834c39bf",
   "metadata": {},
   "outputs": [],
   "source": [
    "with ParallelMap(compute_connectome, subjectList, result_shape=(264, 264, None)) as pmap:\n",
    "    results = pmap.compute()"
   ]
  },
  {
   "cell_type": "code",
   "execution_count": null,
   "id": "2e6d2395-457a-4f32-8040-80501d3b7013",
   "metadata": {},
   "outputs": [],
   "source": [
    "results"
   ]
  },
  {
   "cell_type": "code",
   "execution_count": null,
   "id": "2088cc42-1bdf-4a65-8f46-a6ce2cbaed1a",
   "metadata": {},
   "outputs": [],
   "source": [
    "pmap.results_container"
   ]
  }
 ],
 "metadata": {
  "kernelspec": {
   "display_name": "RSE 23",
   "language": "python",
   "name": "rse23"
  },
  "language_info": {
   "codemirror_mode": {
    "name": "ipython",
    "version": 3
   },
   "file_extension": ".py",
   "mimetype": "text/x-python",
   "name": "python",
   "nbconvert_exporter": "python",
   "pygments_lexer": "ipython3",
   "version": "3.9.16"
  }
 },
 "nbformat": 4,
 "nbformat_minor": 5
}
