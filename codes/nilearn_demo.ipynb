{
 "cells": [
  {
   "cell_type": "code",
   "execution_count": 1,
   "id": "9ab63293-94d1-4eec-86dd-dd2d9d79d77d",
   "metadata": {},
   "outputs": [],
   "source": [
    "from nilearn_connectome import compute_connectome, subjectList\n",
    "from acme import ParallelMap, esi_cluster_setup"
   ]
  },
  {
   "cell_type": "code",
   "execution_count": 2,
   "id": "412f23e2-cf03-46e5-acd1-96b4958a3f76",
   "metadata": {},
   "outputs": [
    {
     "name": "stderr",
     "output_type": "stream",
     "text": [
      "/gs/home/fuertingers/.conda/envs/rse23/lib/python3.9/site-packages/distributed/node.py:180: UserWarning: Port 8787 is already in use.\n",
      "Perhaps you already have a cluster running?\n",
      "Hosting the HTTP server on port 43157 instead\n",
      "  warnings.warn(\n"
     ]
    },
    {
     "name": "stdout",
     "output_type": "stream",
     "text": [
      "<slurm_cluster_setup> Requested worker-count 10 exceeds `n_workers_startup`: waiting for 1 workers to come online, then proceed\n"
     ]
    },
    {
     "name": "stderr",
     "output_type": "stream",
     "text": [
      "<slurm_cluster_setup> SLURM workers ready: 1/1 \t[elapsed time 00:04 | timeout at 01:00]"
     ]
    },
    {
     "name": "stdout",
     "output_type": "stream",
     "text": [
      "<slurm_cluster_setup> Cluster dashboard accessible at http://10.100.32.17:43157/status\n"
     ]
    },
    {
     "name": "stderr",
     "output_type": "stream",
     "text": [
      "\n"
     ]
    }
   ],
   "source": [
    "myClient = esi_cluster_setup(n_workers=10, partition=\"8GBXS\")"
   ]
  },
  {
   "cell_type": "code",
   "execution_count": 3,
   "id": "e9ed3ef0-b6e5-4a02-8dfb-6ecb834c39bf",
   "metadata": {},
   "outputs": [
    {
     "name": "stderr",
     "output_type": "stream",
     "text": [
      "<ParallelMap> INFO: This is ACME v. 2022.12\n",
      "<ParallelMap> INFO: Attaching to global parallel computing client <Client: 'tcp://10.100.32.17:38697' processes=1 threads=1, memory=7.45 GiB>\n",
      "<ParallelMap> INFO: Preparing 21 parallel calls of `compute_connectome` using 10 workers\n",
      "<ParallelMap> INFO: Log information available at /cs/slurm/fuertingers/fuertingers_20230209-153730\n",
      "100% |██████████| 21/21 [01:34<00:00]\n",
      "<ParallelMap> INFO: SUCCESS! Finished parallel computation. Results have been saved to /cs/home/fuertingers/ACME_20230209-153734-913008/compute_connectome.h5 with links to data payload located in /cs/home/fuertingers/ACME_20230209-153734-913008/compute_connectome_payload\n"
     ]
    }
   ],
   "source": [
    "with ParallelMap(compute_connectome, subjectList, result_shape=(264, 264, None)) as pmap:\n",
    "    results = pmap.compute()"
   ]
  },
  {
   "cell_type": "code",
   "execution_count": 4,
   "id": "2e6d2395-457a-4f32-8040-80501d3b7013",
   "metadata": {},
   "outputs": [
    {
     "data": {
      "text/plain": [
       "['/cs/home/fuertingers/ACME_20230209-153734-913008/compute_connectome_payload/compute_connectome_0.h5',\n",
       " '/cs/home/fuertingers/ACME_20230209-153734-913008/compute_connectome_payload/compute_connectome_1.h5',\n",
       " '/cs/home/fuertingers/ACME_20230209-153734-913008/compute_connectome_payload/compute_connectome_2.h5',\n",
       " '/cs/home/fuertingers/ACME_20230209-153734-913008/compute_connectome_payload/compute_connectome_3.h5',\n",
       " '/cs/home/fuertingers/ACME_20230209-153734-913008/compute_connectome_payload/compute_connectome_4.h5',\n",
       " '/cs/home/fuertingers/ACME_20230209-153734-913008/compute_connectome_payload/compute_connectome_5.h5',\n",
       " '/cs/home/fuertingers/ACME_20230209-153734-913008/compute_connectome_payload/compute_connectome_6.h5',\n",
       " '/cs/home/fuertingers/ACME_20230209-153734-913008/compute_connectome_payload/compute_connectome_7.h5',\n",
       " '/cs/home/fuertingers/ACME_20230209-153734-913008/compute_connectome_payload/compute_connectome_8.h5',\n",
       " '/cs/home/fuertingers/ACME_20230209-153734-913008/compute_connectome_payload/compute_connectome_9.h5',\n",
       " '/cs/home/fuertingers/ACME_20230209-153734-913008/compute_connectome_payload/compute_connectome_10.h5',\n",
       " '/cs/home/fuertingers/ACME_20230209-153734-913008/compute_connectome_payload/compute_connectome_11.h5',\n",
       " '/cs/home/fuertingers/ACME_20230209-153734-913008/compute_connectome_payload/compute_connectome_12.h5',\n",
       " '/cs/home/fuertingers/ACME_20230209-153734-913008/compute_connectome_payload/compute_connectome_13.h5',\n",
       " '/cs/home/fuertingers/ACME_20230209-153734-913008/compute_connectome_payload/compute_connectome_14.h5',\n",
       " '/cs/home/fuertingers/ACME_20230209-153734-913008/compute_connectome_payload/compute_connectome_15.h5',\n",
       " '/cs/home/fuertingers/ACME_20230209-153734-913008/compute_connectome_payload/compute_connectome_16.h5',\n",
       " '/cs/home/fuertingers/ACME_20230209-153734-913008/compute_connectome_payload/compute_connectome_17.h5',\n",
       " '/cs/home/fuertingers/ACME_20230209-153734-913008/compute_connectome_payload/compute_connectome_18.h5',\n",
       " '/cs/home/fuertingers/ACME_20230209-153734-913008/compute_connectome_payload/compute_connectome_19.h5',\n",
       " '/cs/home/fuertingers/ACME_20230209-153734-913008/compute_connectome_payload/compute_connectome_20.h5']"
      ]
     },
     "execution_count": 4,
     "metadata": {},
     "output_type": "execute_result"
    }
   ],
   "source": [
    "results"
   ]
  },
  {
   "cell_type": "code",
   "execution_count": 5,
   "id": "2088cc42-1bdf-4a65-8f46-a6ce2cbaed1a",
   "metadata": {},
   "outputs": [
    {
     "data": {
      "text/plain": [
       "'/cs/home/fuertingers/ACME_20230209-153734-913008/compute_connectome.h5'"
      ]
     },
     "execution_count": 5,
     "metadata": {},
     "output_type": "execute_result"
    }
   ],
   "source": [
    "pmap.results_container"
   ]
  }
 ],
 "metadata": {
  "kernelspec": {
   "display_name": "RSE 23",
   "language": "python",
   "name": "rse23"
  },
  "language_info": {
   "codemirror_mode": {
    "name": "ipython",
    "version": 3
   },
   "file_extension": ".py",
   "mimetype": "text/x-python",
   "name": "python",
   "nbconvert_exporter": "python",
   "pygments_lexer": "ipython3",
   "version": "3.9.16"
  }
 },
 "nbformat": 4,
 "nbformat_minor": 5
}
