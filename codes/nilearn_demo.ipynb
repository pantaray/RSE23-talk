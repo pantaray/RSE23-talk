{
 "cells": [
  {
   "cell_type": "code",
   "execution_count": 16,
   "id": "9ab63293-94d1-4eec-86dd-dd2d9d79d77d",
   "metadata": {},
   "outputs": [],
   "source": [
    "from nilearn_connectome import compute_connectome, subjectList\n",
    "\n",
    "from acme import ParallelMap"
   ]
  },
  {
   "cell_type": "code",
   "execution_count": 13,
   "id": "e9ed3ef0-b6e5-4a02-8dfb-6ecb834c39bf",
   "metadata": {},
   "outputs": [
    {
     "name": "stderr",
     "output_type": "stream",
     "text": [
      "<ParallelMap> INFO: This is ACME v. 2022.12\n",
      "/gs/home/fuertingers/.conda/envs/rse23/lib/python3.9/site-packages/distributed/node.py:179: UserWarning: Port 8787 is already in use.\n",
      "Perhaps you already have a cluster running?\n",
      "Hosting the HTTP server on port 42583 instead\n",
      "  warnings.warn(\n",
      "<ParallelMap> INFO: <slurm_cluster_setup> Requested worker-count 5 exceeds `n_workers_startup`: waiting for 1 workers to come online, then proceed\n",
      "<slurm_cluster_setup> SLURM workers ready: 3/None \t[elapsed time 00:03 | timeout at 01:00]\n",
      "<ParallelMap> INFO: <slurm_cluster_setup> Cluster dashboard accessible at http://10.100.32.17:42583/status\n",
      "<ParallelMap> INFO: Preparing 5 parallel calls of `compute_connectome` using 5 workers\n",
      "<ParallelMap> INFO: Log information available at /cs/slurm/fuertingers/fuertingers_20230206-121606\n",
      "100% |██████████| 5/5 [00:43<00:00]\n",
      "<ParallelMap> INFO: SUCCESS! Finished parallel computation. Results have been saved to /cs/home/fuertingers/ACME_20230206-122528-965199/compute_connectome.h5 with links to data payload located in /cs/home/fuertingers/ACME_20230206-122528-965199/compute_connectome_payload\n",
      "<ParallelMap> INFO: <cluster_cleanup> Successfully shut down cluster fuertingers_20230206-121606 containing 5 workers\n"
     ]
    }
   ],
   "source": [
    "with ParallelMap(compute_connectome, subjectList, partition=\"8GBXS\") as pmap:\n",
    "    results = pmap.compute()"
   ]
  },
  {
   "cell_type": "code",
   "execution_count": 14,
   "id": "2e6d2395-457a-4f32-8040-80501d3b7013",
   "metadata": {},
   "outputs": [
    {
     "data": {
      "text/plain": [
       "['/cs/home/fuertingers/ACME_20230206-122528-965199/compute_connectome_payload/compute_connectome_0.h5',\n",
       " '/cs/home/fuertingers/ACME_20230206-122528-965199/compute_connectome_payload/compute_connectome_1.h5',\n",
       " '/cs/home/fuertingers/ACME_20230206-122528-965199/compute_connectome_payload/compute_connectome_2.h5',\n",
       " '/cs/home/fuertingers/ACME_20230206-122528-965199/compute_connectome_payload/compute_connectome_3.h5',\n",
       " '/cs/home/fuertingers/ACME_20230206-122528-965199/compute_connectome_payload/compute_connectome_4.h5']"
      ]
     },
     "execution_count": 14,
     "metadata": {},
     "output_type": "execute_result"
    }
   ],
   "source": [
    "results"
   ]
  },
  {
   "cell_type": "code",
   "execution_count": 15,
   "id": "2088cc42-1bdf-4a65-8f46-a6ce2cbaed1a",
   "metadata": {},
   "outputs": [
    {
     "data": {
      "text/plain": [
       "'/cs/home/fuertingers/ACME_20230206-122528-965199/compute_connectome.h5'"
      ]
     },
     "execution_count": 15,
     "metadata": {},
     "output_type": "execute_result"
    }
   ],
   "source": [
    "pmap.results_container"
   ]
  },
  {
   "cell_type": "code",
   "execution_count": null,
   "id": "f1101e1b-fcf9-402b-b292-4ca04ca63d7f",
   "metadata": {},
   "outputs": [],
   "source": []
  }
 ],
 "metadata": {
  "kernelspec": {
   "display_name": "RSE 23",
   "language": "python",
   "name": "rse23"
  },
  "language_info": {
   "codemirror_mode": {
    "name": "ipython",
    "version": 3
   },
   "file_extension": ".py",
   "mimetype": "text/x-python",
   "name": "python",
   "nbconvert_exporter": "python",
   "pygments_lexer": "ipython3",
   "version": "3.9.16"
  }
 },
 "nbformat": 4,
 "nbformat_minor": 5
}
