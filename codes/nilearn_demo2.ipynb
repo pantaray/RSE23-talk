{
 "cells": [
  {
   "cell_type": "code",
   "execution_count": 27,
   "id": "935f6ffa-31cb-4270-aa95-12c4f68ef40b",
   "metadata": {},
   "outputs": [],
   "source": [
    "from acme import esi_cluster_setup, cluster_cleanup, ParallelMap\n",
    "\n",
    "import h5py\n",
    "\n",
    "from nilearn_connectome import compute_connectome"
   ]
  },
  {
   "cell_type": "code",
   "execution_count": 10,
   "id": "02a89ff2-cfeb-4cd1-bb3d-aa0d2014c9c8",
   "metadata": {},
   "outputs": [
    {
     "name": "stderr",
     "output_type": "stream",
     "text": [
      "/gs/home/fuertingers/.conda/envs/rse23/lib/python3.9/site-packages/distributed/node.py:179: UserWarning: Port 8787 is already in use.\n",
      "Perhaps you already have a cluster running?\n",
      "Hosting the HTTP server on port 38355 instead\n",
      "  warnings.warn(\n"
     ]
    },
    {
     "name": "stdout",
     "output_type": "stream",
     "text": [
      "<slurm_cluster_setup> Requested worker-count 10 exceeds `n_workers_startup`: waiting for 1 workers to come online, then proceed\n"
     ]
    },
    {
     "name": "stderr",
     "output_type": "stream",
     "text": [
      "<slurm_cluster_setup> SLURM workers ready: 3/None \t[elapsed time 00:04 | timeout at 01:00]"
     ]
    },
    {
     "name": "stdout",
     "output_type": "stream",
     "text": [
      "<slurm_cluster_setup> Cluster dashboard accessible at http://10.100.32.17:38355/status\n"
     ]
    },
    {
     "name": "stderr",
     "output_type": "stream",
     "text": [
      "\n"
     ]
    }
   ],
   "source": [
    "myClient = esi_cluster_setup(n_workers=10, partition=\"8GBXS\")"
   ]
  },
  {
   "cell_type": "code",
   "execution_count": 13,
   "id": "8a94cd85-268b-406c-91f1-bbbe4d2ac94f",
   "metadata": {},
   "outputs": [
    {
     "name": "stderr",
     "output_type": "stream",
     "text": [
      "<ParallelMap> INFO: This is ACME v. 2022.12\n",
      "<ParallelMap> INFO: Attaching to global parallel computing client <Client: 'tcp://10.100.32.17:34461' processes=10 threads=10, memory=74.50 GiB>\n",
      "<ParallelMap> INFO: Preparing 5 parallel calls of `compute_connectome` using 10 workers\n",
      "<ParallelMap> INFO: Log information available at /cs/slurm/fuertingers/fuertingers_20230206-160916\n",
      "100% |██████████| 5/5 [00:40<00:00]\n",
      "<ParallelMap> INFO: SUCCESS! Finished parallel computation. Results have been saved to /cs/home/fuertingers/ACME_20230206-161156-164963/compute_connectome.h5 with links to data payload located in /cs/home/fuertingers/ACME_20230206-161156-164963/compute_connectome_payload\n"
     ]
    }
   ],
   "source": [
    "with ParallelMap(compute_connectome, range(5), result_shape=(264, 264, None)) as pmap:\n",
    "    results = pmap.compute()"
   ]
  },
  {
   "cell_type": "code",
   "execution_count": 14,
   "id": "edbd8ed0-38fb-4c36-8a37-e306cf16312d",
   "metadata": {},
   "outputs": [
    {
     "data": {
      "text/plain": [
       "['/cs/home/fuertingers/ACME_20230206-161156-164963/compute_connectome_payload/compute_connectome_0.h5',\n",
       " '/cs/home/fuertingers/ACME_20230206-161156-164963/compute_connectome_payload/compute_connectome_1.h5',\n",
       " '/cs/home/fuertingers/ACME_20230206-161156-164963/compute_connectome_payload/compute_connectome_2.h5',\n",
       " '/cs/home/fuertingers/ACME_20230206-161156-164963/compute_connectome_payload/compute_connectome_3.h5',\n",
       " '/cs/home/fuertingers/ACME_20230206-161156-164963/compute_connectome_payload/compute_connectome_4.h5']"
      ]
     },
     "execution_count": 14,
     "metadata": {},
     "output_type": "execute_result"
    }
   ],
   "source": [
    "results"
   ]
  },
  {
   "cell_type": "code",
   "execution_count": 15,
   "id": "090c4fab-517b-48ac-872d-ecdfe68319cf",
   "metadata": {},
   "outputs": [
    {
     "data": {
      "text/plain": [
       "'/cs/home/fuertingers/ACME_20230206-161156-164963/compute_connectome.h5'"
      ]
     },
     "execution_count": 15,
     "metadata": {},
     "output_type": "execute_result"
    }
   ],
   "source": [
    "pmap.results_container"
   ]
  },
  {
   "cell_type": "code",
   "execution_count": 24,
   "id": "74ee997e-04ad-4886-a767-7ed0a1b6476b",
   "metadata": {},
   "outputs": [
    {
     "name": "stdout",
     "output_type": "stream",
     "text": [
      "<HDF5 dataset \"result_0\": shape (264, 264, 5), type \"<f8\">\n"
     ]
    }
   ],
   "source": [
    "res = h5py.File(pmap.results_container, \"r\")\n",
    "print(res[\"result_0\"])"
   ]
  },
  {
   "cell_type": "code",
   "execution_count": 25,
   "id": "2b49b616-8c0d-4e1c-8d81-0b27119e4c2d",
   "metadata": {},
   "outputs": [
    {
     "data": {
      "text/plain": [
       "array([[ 1.        ,  0.09640513,  0.06990924, ...,  0.12990164,\n",
       "        -0.04038437,  0.07309743],\n",
       "       [ 0.09640513,  1.        ,  0.11786283, ..., -0.02285714,\n",
       "        -0.06695917,  0.01946163],\n",
       "       [ 0.06990924,  0.11786283,  1.        , ..., -0.18113036,\n",
       "        -0.08903197,  0.06609709],\n",
       "       ...,\n",
       "       [ 0.12990164, -0.02285714, -0.18113036, ...,  1.        ,\n",
       "         0.10743258,  0.04901158],\n",
       "       [-0.04038437, -0.06695917, -0.08903197, ...,  0.10743258,\n",
       "         1.        ,  0.17943694],\n",
       "       [ 0.07309743,  0.01946163,  0.06609709, ...,  0.04901158,\n",
       "         0.17943694,  1.        ]])"
      ]
     },
     "execution_count": 25,
     "metadata": {},
     "output_type": "execute_result"
    }
   ],
   "source": [
    "res[\"result_0\"][:, :, 0] # First subject"
   ]
  },
  {
   "cell_type": "code",
   "execution_count": 28,
   "id": "d0f372a2-dedd-4d98-b503-bea415fb567d",
   "metadata": {},
   "outputs": [
    {
     "name": "stderr",
     "output_type": "stream",
     "text": [
      "<ParallelMap> INFO: <cluster_cleanup> Successfully shut down cluster fuertingers_20230206-160916 containing 10 workers\n"
     ]
    }
   ],
   "source": [
    "cluster_cleanup()"
   ]
  },
  {
   "cell_type": "code",
   "execution_count": null,
   "id": "e589b869-4a9e-40d7-85a3-f84dc21f0cdb",
   "metadata": {},
   "outputs": [],
   "source": []
  }
 ],
 "metadata": {
  "kernelspec": {
   "display_name": "RSE 23",
   "language": "python",
   "name": "rse23"
  },
  "language_info": {
   "codemirror_mode": {
    "name": "ipython",
    "version": 3
   },
   "file_extension": ".py",
   "mimetype": "text/x-python",
   "name": "python",
   "nbconvert_exporter": "python",
   "pygments_lexer": "ipython3",
   "version": "3.9.16"
  }
 },
 "nbformat": 4,
 "nbformat_minor": 5
}
